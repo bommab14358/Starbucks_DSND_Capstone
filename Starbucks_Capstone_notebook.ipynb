{
 "cells": [
  {
   "cell_type": "markdown",
   "metadata": {},
   "source": [
    "# Starbucks Capstone Challenge\n",
    "\n",
    "### Introduction\n",
    "\n",
    "This data set contains simulated data that mimics customer behavior on the Starbucks rewards mobile app. Once every few days, Starbucks sends out an offer to users of the mobile app. An offer can be merely an advertisement for a drink or an actual offer such as a discount or BOGO (buy one get one free). Some users might not receive any offer during certain weeks. \n",
    "\n",
    "Not all users receive the same offer, and that is the challenge to solve with this data set.\n",
    "\n",
    "Your task is to combine transaction, demographic and offer data to determine which demographic groups respond best to which offer type. This data set is a simplified version of the real Starbucks app because the underlying simulator only has one product whereas Starbucks actually sells dozens of products.\n",
    "\n",
    "Every offer has a validity period before the offer expires. As an example, a BOGO offer might be valid for only 5 days. You'll see in the data set that informational offers have a validity period even though these ads are merely providing information about a product; for example, if an informational offer has 7 days of validity, you can assume the customer is feeling the influence of the offer for 7 days after receiving the advertisement.\n",
    "\n",
    "You'll be given transactional data showing user purchases made on the app including the timestamp of purchase and the amount of money spent on a purchase. This transactional data also has a record for each offer that a user receives as well as a record for when a user actually views the offer. There are also records for when a user completes an offer. \n",
    "\n",
    "Keep in mind as well that someone using the app might make a purchase through the app without having received an offer or seen an offer.\n",
    "\n",
    "### Example\n",
    "\n",
    "To give an example, a user could receive a discount offer buy 10 dollars get 2 off on Monday. The offer is valid for 10 days from receipt. If the customer accumulates at least 10 dollars in purchases during the validity period, the customer completes the offer.\n",
    "\n",
    "However, there are a few things to watch out for in this data set. Customers do not opt into the offers that they receive; in other words, a user can receive an offer, never actually view the offer, and still complete the offer. For example, a user might receive the \"buy 10 dollars get 2 dollars off offer\", but the user never opens the offer during the 10 day validity period. The customer spends 15 dollars during those ten days. There will be an offer completion record in the data set; however, the customer was not influenced by the offer because the customer never viewed the offer.\n",
    "\n",
    "### Cleaning\n",
    "\n",
    "This makes data cleaning especially important and tricky.\n",
    "\n",
    "You'll also want to take into account that some demographic groups will make purchases even if they don't receive an offer. From a business perspective, if a customer is going to make a 10 dollar purchase without an offer anyway, you wouldn't want to send a buy 10 dollars get 2 dollars off offer. You'll want to try to assess what a certain demographic group will buy when not receiving any offers.\n",
    "\n",
    "### Final Advice\n",
    "\n",
    "Because this is a capstone project, you are free to analyze the data any way you see fit. For example, you could build a machine learning model that predicts how much someone will spend based on demographics and offer type. Or you could build a model that predicts whether or not someone will respond to an offer. Or, you don't need to build a machine learning model at all. You could develop a set of heuristics that determine what offer you should send to each customer (i.e., 75 percent of women customers who were 35 years old responded to offer A vs 40 percent from the same demographic to offer B, so send offer A)."
   ]
  },
  {
   "cell_type": "markdown",
   "metadata": {},
   "source": [
    "# Data Sets\n",
    "\n",
    "The data is contained in three files:\n",
    "\n",
    "* portfolio.json - containing offer ids and meta data about each offer (duration, type, etc.)\n",
    "* profile.json - demographic data for each customer\n",
    "* transcript.json - records for transactions, offers received, offers viewed, and offers completed\n",
    "\n",
    "Here is the schema and explanation of each variable in the files:\n",
    "\n",
    "**portfolio.json**\n",
    "* id (string) - offer id\n",
    "* offer_type (string) - type of offer ie BOGO, discount, informational\n",
    "* difficulty (int) - minimum required spend to complete an offer\n",
    "* reward (int) - reward given for completing an offer\n",
    "* duration (int) - time for offer to be open, in days\n",
    "* channels (list of strings)\n",
    "\n",
    "**profile.json**\n",
    "* age (int) - age of the customer \n",
    "* became_member_on (int) - date when customer created an app account\n",
    "* gender (str) - gender of the customer (note some entries contain 'O' for other rather than M or F)\n",
    "* id (str) - customer id\n",
    "* income (float) - customer's income\n",
    "\n",
    "**transcript.json**\n",
    "* event (str) - record description (ie transaction, offer received, offer viewed, etc.)\n",
    "* person (str) - customer id\n",
    "* time (int) - time in hours since start of test. The data begins at time t=0\n",
    "* value - (dict of strings) - either an offer id or transaction amount depending on the record\n",
    "\n",
    "**Note:** If you are using the workspace, you will need to go to the terminal and run the command `conda update pandas` before reading in the files. This is because the version of pandas in the workspace cannot read in the transcript.json file correctly, but the newest version of pandas can. You can access the termnal from the orange icon in the top left of this notebook.  \n",
    "\n",
    "You can see how to access the terminal and how the install works using the two images below.  First you need to access the terminal:\n",
    "\n",
    "<img src=\"pic1.png\"/>\n",
    "\n",
    "Then you will want to run the above command:\n",
    "\n",
    "<img src=\"pic2.png\"/>\n",
    "\n",
    "Finally, when you enter back into the notebook (use the jupyter icon again), you should be able to run the below cell without any errors."
   ]
  },
  {
   "cell_type": "code",
   "execution_count": 1,
   "metadata": {},
   "outputs": [],
   "source": [
    "import pandas as pd\n",
    "import numpy as np\n",
    "import math\n",
    "import json\n",
    "import seaborn as sns\n",
    "import matplotlib\n",
    "import matplotlib.pyplot as plt\n",
    "% matplotlib inline\n",
    "\n",
    "pd.set_option('display.max_columns', None)\n",
    "pd.options.display.float_format = '{:,}'.format\n",
    "\n",
    "# read in the json files\n",
    "portfolio = pd.read_json('data/portfolio.json', orient='records', lines=True)\n",
    "profile = pd.read_json('data/profile.json', orient='records', lines=True)\n",
    "transcript = pd.read_json('data/transcript.json', orient='records', lines=True)"
   ]
  },
  {
   "cell_type": "markdown",
   "metadata": {},
   "source": [
    "## Cleaning and Merging the data"
   ]
  },
  {
   "cell_type": "code",
   "execution_count": 2,
   "metadata": {},
   "outputs": [
    {
     "name": "stdout",
     "output_type": "stream",
     "text": [
      "(10, 6)\n"
     ]
    },
    {
     "data": {
      "text/html": [
       "<div>\n",
       "<style scoped>\n",
       "    .dataframe tbody tr th:only-of-type {\n",
       "        vertical-align: middle;\n",
       "    }\n",
       "\n",
       "    .dataframe tbody tr th {\n",
       "        vertical-align: top;\n",
       "    }\n",
       "\n",
       "    .dataframe thead th {\n",
       "        text-align: right;\n",
       "    }\n",
       "</style>\n",
       "<table border=\"1\" class=\"dataframe\">\n",
       "  <thead>\n",
       "    <tr style=\"text-align: right;\">\n",
       "      <th></th>\n",
       "      <th>channels</th>\n",
       "      <th>difficulty</th>\n",
       "      <th>duration</th>\n",
       "      <th>id</th>\n",
       "      <th>offer_type</th>\n",
       "      <th>reward</th>\n",
       "    </tr>\n",
       "  </thead>\n",
       "  <tbody>\n",
       "    <tr>\n",
       "      <th>0</th>\n",
       "      <td>[email, mobile, social]</td>\n",
       "      <td>10</td>\n",
       "      <td>7</td>\n",
       "      <td>ae264e3637204a6fb9bb56bc8210ddfd</td>\n",
       "      <td>bogo</td>\n",
       "      <td>10</td>\n",
       "    </tr>\n",
       "    <tr>\n",
       "      <th>1</th>\n",
       "      <td>[web, email, mobile, social]</td>\n",
       "      <td>10</td>\n",
       "      <td>5</td>\n",
       "      <td>4d5c57ea9a6940dd891ad53e9dbe8da0</td>\n",
       "      <td>bogo</td>\n",
       "      <td>10</td>\n",
       "    </tr>\n",
       "    <tr>\n",
       "      <th>2</th>\n",
       "      <td>[web, email, mobile]</td>\n",
       "      <td>0</td>\n",
       "      <td>4</td>\n",
       "      <td>3f207df678b143eea3cee63160fa8bed</td>\n",
       "      <td>informational</td>\n",
       "      <td>0</td>\n",
       "    </tr>\n",
       "    <tr>\n",
       "      <th>3</th>\n",
       "      <td>[web, email, mobile]</td>\n",
       "      <td>5</td>\n",
       "      <td>7</td>\n",
       "      <td>9b98b8c7a33c4b65b9aebfe6a799e6d9</td>\n",
       "      <td>bogo</td>\n",
       "      <td>5</td>\n",
       "    </tr>\n",
       "    <tr>\n",
       "      <th>4</th>\n",
       "      <td>[web, email]</td>\n",
       "      <td>20</td>\n",
       "      <td>10</td>\n",
       "      <td>0b1e1539f2cc45b7b9fa7c272da2e1d7</td>\n",
       "      <td>discount</td>\n",
       "      <td>5</td>\n",
       "    </tr>\n",
       "  </tbody>\n",
       "</table>\n",
       "</div>"
      ],
      "text/plain": [
       "                       channels  difficulty  duration  \\\n",
       "0       [email, mobile, social]          10         7   \n",
       "1  [web, email, mobile, social]          10         5   \n",
       "2          [web, email, mobile]           0         4   \n",
       "3          [web, email, mobile]           5         7   \n",
       "4                  [web, email]          20        10   \n",
       "\n",
       "                                 id     offer_type  reward  \n",
       "0  ae264e3637204a6fb9bb56bc8210ddfd           bogo      10  \n",
       "1  4d5c57ea9a6940dd891ad53e9dbe8da0           bogo      10  \n",
       "2  3f207df678b143eea3cee63160fa8bed  informational       0  \n",
       "3  9b98b8c7a33c4b65b9aebfe6a799e6d9           bogo       5  \n",
       "4  0b1e1539f2cc45b7b9fa7c272da2e1d7       discount       5  "
      ]
     },
     "execution_count": 2,
     "metadata": {},
     "output_type": "execute_result"
    }
   ],
   "source": [
    "print(portfolio.shape)\n",
    "portfolio.head()"
   ]
  },
  {
   "cell_type": "code",
   "execution_count": 3,
   "metadata": {},
   "outputs": [
    {
     "name": "stdout",
     "output_type": "stream",
     "text": [
      "(17000, 5)\n"
     ]
    },
    {
     "data": {
      "text/html": [
       "<div>\n",
       "<style scoped>\n",
       "    .dataframe tbody tr th:only-of-type {\n",
       "        vertical-align: middle;\n",
       "    }\n",
       "\n",
       "    .dataframe tbody tr th {\n",
       "        vertical-align: top;\n",
       "    }\n",
       "\n",
       "    .dataframe thead th {\n",
       "        text-align: right;\n",
       "    }\n",
       "</style>\n",
       "<table border=\"1\" class=\"dataframe\">\n",
       "  <thead>\n",
       "    <tr style=\"text-align: right;\">\n",
       "      <th></th>\n",
       "      <th>age</th>\n",
       "      <th>became_member_on</th>\n",
       "      <th>gender</th>\n",
       "      <th>id</th>\n",
       "      <th>income</th>\n",
       "    </tr>\n",
       "  </thead>\n",
       "  <tbody>\n",
       "    <tr>\n",
       "      <th>0</th>\n",
       "      <td>118</td>\n",
       "      <td>2017-02-12</td>\n",
       "      <td>None</td>\n",
       "      <td>68be06ca386d4c31939f3a4f0e3dd783</td>\n",
       "      <td>nan</td>\n",
       "    </tr>\n",
       "    <tr>\n",
       "      <th>1</th>\n",
       "      <td>55</td>\n",
       "      <td>2017-07-15</td>\n",
       "      <td>F</td>\n",
       "      <td>0610b486422d4921ae7d2bf64640c50b</td>\n",
       "      <td>112,000.0</td>\n",
       "    </tr>\n",
       "    <tr>\n",
       "      <th>2</th>\n",
       "      <td>118</td>\n",
       "      <td>2018-07-12</td>\n",
       "      <td>None</td>\n",
       "      <td>38fe809add3b4fcf9315a9694bb96ff5</td>\n",
       "      <td>nan</td>\n",
       "    </tr>\n",
       "    <tr>\n",
       "      <th>3</th>\n",
       "      <td>75</td>\n",
       "      <td>2017-05-09</td>\n",
       "      <td>F</td>\n",
       "      <td>78afa995795e4d85b5d9ceeca43f5fef</td>\n",
       "      <td>100,000.0</td>\n",
       "    </tr>\n",
       "    <tr>\n",
       "      <th>4</th>\n",
       "      <td>118</td>\n",
       "      <td>2017-08-04</td>\n",
       "      <td>None</td>\n",
       "      <td>a03223e636434f42ac4c3df47e8bac43</td>\n",
       "      <td>nan</td>\n",
       "    </tr>\n",
       "  </tbody>\n",
       "</table>\n",
       "</div>"
      ],
      "text/plain": [
       "   age became_member_on gender                                id    income\n",
       "0  118       2017-02-12   None  68be06ca386d4c31939f3a4f0e3dd783       nan\n",
       "1   55       2017-07-15      F  0610b486422d4921ae7d2bf64640c50b 112,000.0\n",
       "2  118       2018-07-12   None  38fe809add3b4fcf9315a9694bb96ff5       nan\n",
       "3   75       2017-05-09      F  78afa995795e4d85b5d9ceeca43f5fef 100,000.0\n",
       "4  118       2017-08-04   None  a03223e636434f42ac4c3df47e8bac43       nan"
      ]
     },
     "execution_count": 3,
     "metadata": {},
     "output_type": "execute_result"
    }
   ],
   "source": [
    "print(profile.shape)\n",
    "profile['became_member_on'] = pd.to_datetime(profile['became_member_on'], format = '%Y%m%d')\n",
    "profile.head()"
   ]
  },
  {
   "cell_type": "code",
   "execution_count": 4,
   "metadata": {},
   "outputs": [
    {
     "name": "stdout",
     "output_type": "stream",
     "text": [
      "(306534, 4)\n"
     ]
    },
    {
     "data": {
      "text/html": [
       "<div>\n",
       "<style scoped>\n",
       "    .dataframe tbody tr th:only-of-type {\n",
       "        vertical-align: middle;\n",
       "    }\n",
       "\n",
       "    .dataframe tbody tr th {\n",
       "        vertical-align: top;\n",
       "    }\n",
       "\n",
       "    .dataframe thead th {\n",
       "        text-align: right;\n",
       "    }\n",
       "</style>\n",
       "<table border=\"1\" class=\"dataframe\">\n",
       "  <thead>\n",
       "    <tr style=\"text-align: right;\">\n",
       "      <th></th>\n",
       "      <th>event</th>\n",
       "      <th>person</th>\n",
       "      <th>time</th>\n",
       "      <th>value</th>\n",
       "    </tr>\n",
       "  </thead>\n",
       "  <tbody>\n",
       "    <tr>\n",
       "      <th>0</th>\n",
       "      <td>offer received</td>\n",
       "      <td>78afa995795e4d85b5d9ceeca43f5fef</td>\n",
       "      <td>0</td>\n",
       "      <td>{'offer id': '9b98b8c7a33c4b65b9aebfe6a799e6d9'}</td>\n",
       "    </tr>\n",
       "    <tr>\n",
       "      <th>1</th>\n",
       "      <td>offer received</td>\n",
       "      <td>a03223e636434f42ac4c3df47e8bac43</td>\n",
       "      <td>0</td>\n",
       "      <td>{'offer id': '0b1e1539f2cc45b7b9fa7c272da2e1d7'}</td>\n",
       "    </tr>\n",
       "    <tr>\n",
       "      <th>2</th>\n",
       "      <td>offer received</td>\n",
       "      <td>e2127556f4f64592b11af22de27a7932</td>\n",
       "      <td>0</td>\n",
       "      <td>{'offer id': '2906b810c7d4411798c6938adc9daaa5'}</td>\n",
       "    </tr>\n",
       "    <tr>\n",
       "      <th>3</th>\n",
       "      <td>offer received</td>\n",
       "      <td>8ec6ce2a7e7949b1bf142def7d0e0586</td>\n",
       "      <td>0</td>\n",
       "      <td>{'offer id': 'fafdcd668e3743c1bb461111dcafc2a4'}</td>\n",
       "    </tr>\n",
       "    <tr>\n",
       "      <th>4</th>\n",
       "      <td>offer received</td>\n",
       "      <td>68617ca6246f4fbc85e91a2a49552598</td>\n",
       "      <td>0</td>\n",
       "      <td>{'offer id': '4d5c57ea9a6940dd891ad53e9dbe8da0'}</td>\n",
       "    </tr>\n",
       "  </tbody>\n",
       "</table>\n",
       "</div>"
      ],
      "text/plain": [
       "            event                            person  time  \\\n",
       "0  offer received  78afa995795e4d85b5d9ceeca43f5fef     0   \n",
       "1  offer received  a03223e636434f42ac4c3df47e8bac43     0   \n",
       "2  offer received  e2127556f4f64592b11af22de27a7932     0   \n",
       "3  offer received  8ec6ce2a7e7949b1bf142def7d0e0586     0   \n",
       "4  offer received  68617ca6246f4fbc85e91a2a49552598     0   \n",
       "\n",
       "                                              value  \n",
       "0  {'offer id': '9b98b8c7a33c4b65b9aebfe6a799e6d9'}  \n",
       "1  {'offer id': '0b1e1539f2cc45b7b9fa7c272da2e1d7'}  \n",
       "2  {'offer id': '2906b810c7d4411798c6938adc9daaa5'}  \n",
       "3  {'offer id': 'fafdcd668e3743c1bb461111dcafc2a4'}  \n",
       "4  {'offer id': '4d5c57ea9a6940dd891ad53e9dbe8da0'}  "
      ]
     },
     "execution_count": 4,
     "metadata": {},
     "output_type": "execute_result"
    }
   ],
   "source": [
    "print(transcript.shape)\n",
    "transcript.head()"
   ]
  },
  {
   "cell_type": "code",
   "execution_count": 5,
   "metadata": {},
   "outputs": [
    {
     "data": {
      "text/html": [
       "<div>\n",
       "<style scoped>\n",
       "    .dataframe tbody tr th:only-of-type {\n",
       "        vertical-align: middle;\n",
       "    }\n",
       "\n",
       "    .dataframe tbody tr th {\n",
       "        vertical-align: top;\n",
       "    }\n",
       "\n",
       "    .dataframe thead th {\n",
       "        text-align: right;\n",
       "    }\n",
       "</style>\n",
       "<table border=\"1\" class=\"dataframe\">\n",
       "  <thead>\n",
       "    <tr style=\"text-align: right;\">\n",
       "      <th></th>\n",
       "      <th>event</th>\n",
       "      <th>person</th>\n",
       "      <th>time</th>\n",
       "      <th>value_key</th>\n",
       "      <th>value_values</th>\n",
       "    </tr>\n",
       "  </thead>\n",
       "  <tbody>\n",
       "    <tr>\n",
       "      <th>0</th>\n",
       "      <td>offer received</td>\n",
       "      <td>78afa995795e4d85b5d9ceeca43f5fef</td>\n",
       "      <td>0</td>\n",
       "      <td>offer_id</td>\n",
       "      <td>9b98b8c7a33c4b65b9aebfe6a799e6d9</td>\n",
       "    </tr>\n",
       "    <tr>\n",
       "      <th>1</th>\n",
       "      <td>offer received</td>\n",
       "      <td>a03223e636434f42ac4c3df47e8bac43</td>\n",
       "      <td>0</td>\n",
       "      <td>offer_id</td>\n",
       "      <td>0b1e1539f2cc45b7b9fa7c272da2e1d7</td>\n",
       "    </tr>\n",
       "    <tr>\n",
       "      <th>2</th>\n",
       "      <td>offer received</td>\n",
       "      <td>e2127556f4f64592b11af22de27a7932</td>\n",
       "      <td>0</td>\n",
       "      <td>offer_id</td>\n",
       "      <td>2906b810c7d4411798c6938adc9daaa5</td>\n",
       "    </tr>\n",
       "    <tr>\n",
       "      <th>3</th>\n",
       "      <td>offer received</td>\n",
       "      <td>8ec6ce2a7e7949b1bf142def7d0e0586</td>\n",
       "      <td>0</td>\n",
       "      <td>offer_id</td>\n",
       "      <td>fafdcd668e3743c1bb461111dcafc2a4</td>\n",
       "    </tr>\n",
       "    <tr>\n",
       "      <th>4</th>\n",
       "      <td>offer received</td>\n",
       "      <td>68617ca6246f4fbc85e91a2a49552598</td>\n",
       "      <td>0</td>\n",
       "      <td>offer_id</td>\n",
       "      <td>4d5c57ea9a6940dd891ad53e9dbe8da0</td>\n",
       "    </tr>\n",
       "  </tbody>\n",
       "</table>\n",
       "</div>"
      ],
      "text/plain": [
       "            event                            person  time value_key  \\\n",
       "0  offer received  78afa995795e4d85b5d9ceeca43f5fef     0  offer_id   \n",
       "1  offer received  a03223e636434f42ac4c3df47e8bac43     0  offer_id   \n",
       "2  offer received  e2127556f4f64592b11af22de27a7932     0  offer_id   \n",
       "3  offer received  8ec6ce2a7e7949b1bf142def7d0e0586     0  offer_id   \n",
       "4  offer received  68617ca6246f4fbc85e91a2a49552598     0  offer_id   \n",
       "\n",
       "                       value_values  \n",
       "0  9b98b8c7a33c4b65b9aebfe6a799e6d9  \n",
       "1  0b1e1539f2cc45b7b9fa7c272da2e1d7  \n",
       "2  2906b810c7d4411798c6938adc9daaa5  \n",
       "3  fafdcd668e3743c1bb461111dcafc2a4  \n",
       "4  4d5c57ea9a6940dd891ad53e9dbe8da0  "
      ]
     },
     "execution_count": 5,
     "metadata": {},
     "output_type": "execute_result"
    }
   ],
   "source": [
    "# Cleaning transcript data\n",
    "transcript['value_key'] = transcript['value'].apply(lambda x:list(x.keys())[0])\n",
    "transcript['value_key'] = transcript['value_key'].apply(lambda x:x.replace(' ', '_'))\n",
    "transcript['value_values'] = transcript['value'].apply(lambda x:list(x.values())[0])\n",
    "\n",
    "transcript = transcript.drop(['value'], axis=1)\n",
    "transcript.head()"
   ]
  },
  {
   "cell_type": "markdown",
   "metadata": {},
   "source": [
    "### Creating a master dataset"
   ]
  },
  {
   "cell_type": "code",
   "execution_count": 6,
   "metadata": {},
   "outputs": [
    {
     "name": "stdout",
     "output_type": "stream",
     "text": [
      "(306534, 14)\n"
     ]
    },
    {
     "data": {
      "text/html": [
       "<div>\n",
       "<style scoped>\n",
       "    .dataframe tbody tr th:only-of-type {\n",
       "        vertical-align: middle;\n",
       "    }\n",
       "\n",
       "    .dataframe tbody tr th {\n",
       "        vertical-align: top;\n",
       "    }\n",
       "\n",
       "    .dataframe thead th {\n",
       "        text-align: right;\n",
       "    }\n",
       "</style>\n",
       "<table border=\"1\" class=\"dataframe\">\n",
       "  <thead>\n",
       "    <tr style=\"text-align: right;\">\n",
       "      <th></th>\n",
       "      <th>event</th>\n",
       "      <th>person</th>\n",
       "      <th>time</th>\n",
       "      <th>value_key</th>\n",
       "      <th>value_values</th>\n",
       "      <th>age</th>\n",
       "      <th>became_member_on</th>\n",
       "      <th>gender</th>\n",
       "      <th>income</th>\n",
       "      <th>channels</th>\n",
       "      <th>difficulty</th>\n",
       "      <th>duration</th>\n",
       "      <th>offer_type</th>\n",
       "      <th>reward</th>\n",
       "    </tr>\n",
       "  </thead>\n",
       "  <tbody>\n",
       "    <tr>\n",
       "      <th>0</th>\n",
       "      <td>offer received</td>\n",
       "      <td>78afa995795e4d85b5d9ceeca43f5fef</td>\n",
       "      <td>0</td>\n",
       "      <td>offer_id</td>\n",
       "      <td>9b98b8c7a33c4b65b9aebfe6a799e6d9</td>\n",
       "      <td>75</td>\n",
       "      <td>2017-05-09</td>\n",
       "      <td>F</td>\n",
       "      <td>100,000.0</td>\n",
       "      <td>[web, email, mobile]</td>\n",
       "      <td>5.0</td>\n",
       "      <td>7.0</td>\n",
       "      <td>bogo</td>\n",
       "      <td>5.0</td>\n",
       "    </tr>\n",
       "    <tr>\n",
       "      <th>1</th>\n",
       "      <td>offer received</td>\n",
       "      <td>a03223e636434f42ac4c3df47e8bac43</td>\n",
       "      <td>0</td>\n",
       "      <td>offer_id</td>\n",
       "      <td>0b1e1539f2cc45b7b9fa7c272da2e1d7</td>\n",
       "      <td>118</td>\n",
       "      <td>2017-08-04</td>\n",
       "      <td>None</td>\n",
       "      <td>nan</td>\n",
       "      <td>[web, email]</td>\n",
       "      <td>20.0</td>\n",
       "      <td>10.0</td>\n",
       "      <td>discount</td>\n",
       "      <td>5.0</td>\n",
       "    </tr>\n",
       "    <tr>\n",
       "      <th>2</th>\n",
       "      <td>offer received</td>\n",
       "      <td>e2127556f4f64592b11af22de27a7932</td>\n",
       "      <td>0</td>\n",
       "      <td>offer_id</td>\n",
       "      <td>2906b810c7d4411798c6938adc9daaa5</td>\n",
       "      <td>68</td>\n",
       "      <td>2018-04-26</td>\n",
       "      <td>M</td>\n",
       "      <td>70,000.0</td>\n",
       "      <td>[web, email, mobile]</td>\n",
       "      <td>10.0</td>\n",
       "      <td>7.0</td>\n",
       "      <td>discount</td>\n",
       "      <td>2.0</td>\n",
       "    </tr>\n",
       "    <tr>\n",
       "      <th>3</th>\n",
       "      <td>offer received</td>\n",
       "      <td>8ec6ce2a7e7949b1bf142def7d0e0586</td>\n",
       "      <td>0</td>\n",
       "      <td>offer_id</td>\n",
       "      <td>fafdcd668e3743c1bb461111dcafc2a4</td>\n",
       "      <td>118</td>\n",
       "      <td>2017-09-25</td>\n",
       "      <td>None</td>\n",
       "      <td>nan</td>\n",
       "      <td>[web, email, mobile, social]</td>\n",
       "      <td>10.0</td>\n",
       "      <td>10.0</td>\n",
       "      <td>discount</td>\n",
       "      <td>2.0</td>\n",
       "    </tr>\n",
       "    <tr>\n",
       "      <th>4</th>\n",
       "      <td>offer received</td>\n",
       "      <td>68617ca6246f4fbc85e91a2a49552598</td>\n",
       "      <td>0</td>\n",
       "      <td>offer_id</td>\n",
       "      <td>4d5c57ea9a6940dd891ad53e9dbe8da0</td>\n",
       "      <td>118</td>\n",
       "      <td>2017-10-02</td>\n",
       "      <td>None</td>\n",
       "      <td>nan</td>\n",
       "      <td>[web, email, mobile, social]</td>\n",
       "      <td>10.0</td>\n",
       "      <td>5.0</td>\n",
       "      <td>bogo</td>\n",
       "      <td>10.0</td>\n",
       "    </tr>\n",
       "  </tbody>\n",
       "</table>\n",
       "</div>"
      ],
      "text/plain": [
       "            event                            person  time value_key  \\\n",
       "0  offer received  78afa995795e4d85b5d9ceeca43f5fef     0  offer_id   \n",
       "1  offer received  a03223e636434f42ac4c3df47e8bac43     0  offer_id   \n",
       "2  offer received  e2127556f4f64592b11af22de27a7932     0  offer_id   \n",
       "3  offer received  8ec6ce2a7e7949b1bf142def7d0e0586     0  offer_id   \n",
       "4  offer received  68617ca6246f4fbc85e91a2a49552598     0  offer_id   \n",
       "\n",
       "                       value_values  age became_member_on gender    income  \\\n",
       "0  9b98b8c7a33c4b65b9aebfe6a799e6d9   75       2017-05-09      F 100,000.0   \n",
       "1  0b1e1539f2cc45b7b9fa7c272da2e1d7  118       2017-08-04   None       nan   \n",
       "2  2906b810c7d4411798c6938adc9daaa5   68       2018-04-26      M  70,000.0   \n",
       "3  fafdcd668e3743c1bb461111dcafc2a4  118       2017-09-25   None       nan   \n",
       "4  4d5c57ea9a6940dd891ad53e9dbe8da0  118       2017-10-02   None       nan   \n",
       "\n",
       "                       channels  difficulty  duration offer_type  reward  \n",
       "0          [web, email, mobile]         5.0       7.0       bogo     5.0  \n",
       "1                  [web, email]        20.0      10.0   discount     5.0  \n",
       "2          [web, email, mobile]        10.0       7.0   discount     2.0  \n",
       "3  [web, email, mobile, social]        10.0      10.0   discount     2.0  \n",
       "4  [web, email, mobile, social]        10.0       5.0       bogo    10.0  "
      ]
     },
     "execution_count": 6,
     "metadata": {},
     "output_type": "execute_result"
    }
   ],
   "source": [
    "data = transcript.merge(profile, how = 'left', left_on = 'person', right_on = 'id').drop(['id'], axis=1)\n",
    "data = data.merge(portfolio, how = 'left', left_on = 'value_values', right_on = 'id').drop(['id'], axis=1)\n",
    "print(data.shape)\n",
    "data.head()"
   ]
  },
  {
   "cell_type": "markdown",
   "metadata": {},
   "source": [
    "## Understanding the data"
   ]
  },
  {
   "cell_type": "code",
   "execution_count": 7,
   "metadata": {},
   "outputs": [
    {
     "data": {
      "text/plain": [
       "transaction        138953\n",
       "offer received      76277\n",
       "offer viewed        57725\n",
       "offer completed     33579\n",
       "Name: event, dtype: int64"
      ]
     },
     "execution_count": 7,
     "metadata": {},
     "output_type": "execute_result"
    }
   ],
   "source": [
    "# Distinct type of events\n",
    "data.event.value_counts()"
   ]
  },
  {
   "cell_type": "code",
   "execution_count": 8,
   "metadata": {},
   "outputs": [
    {
     "data": {
      "text/plain": [
       "offer_id    167581\n",
       "amount      138953\n",
       "Name: value_key, dtype: int64"
      ]
     },
     "execution_count": 8,
     "metadata": {},
     "output_type": "execute_result"
    }
   ],
   "source": [
    "# Distinct type of transaction information\n",
    "data.value_key.value_counts()"
   ]
  },
  {
   "cell_type": "markdown",
   "metadata": {},
   "source": [
    "### Understanding the membership enrollment trends"
   ]
  },
  {
   "cell_type": "code",
   "execution_count": 32,
   "metadata": {
    "scrolled": false
   },
   "outputs": [
    {
     "data": {
      "image/png": "[encoded data removed]",
      "text/plain": [
       "<matplotlib.figure.Figure at 0x7fcc00291cc0>"
      ]
     },
     "metadata": {
      "needs_background": "light"
     },
     "output_type": "display_data"
    }
   ],
   "source": [
    "# Create a column to hold the membership enrollment year and calculate number of enrollments by year\n",
    "data['became_member_on_year'] = data['became_member_on'].dt.year\n",
    "data1 = data.groupby(['became_member_on_year'])['person'].nunique().reset_index()\n",
    "data1.columns = ['Year of membership enrollment', 'Number of people']\n",
    "sns.set_context(\"paper\", rc={\"font.size\":15, \"xtick.labelsize\":15, \"ytick.labelsize\":15,\"axes.labelsize\":15})   \n",
    "plt.figure(figsize = (15,10))\n",
    "g = sns.barplot(x = 'Year of membership enrollment', y = 'Number of people', data=data1)\n",
    "for index, row in data1.iterrows():\n",
    "    g.text(row.name,row['Number of people'], '{:,}'.format(round(row['Number of people'],1)), color='black', ha=\"center\",fontdict = {'size':15})\n",
    "\n",
    "plt.show()"
   ]
  },
  {
   "cell_type": "code",
   "execution_count": 31,
   "metadata": {},
   "outputs": [
    {
     "data": {
      "image/png": "[encoded data removed]",
      "text/plain": [
       "<matplotlib.figure.Figure at 0x7fcc002a45f8>"
      ]
     },
     "metadata": {
      "needs_background": "light"
     },
     "output_type": "display_data"
    }
   ],
   "source": [
    "# Create a column to hold the membership enrollment year and calculate number of transactions by the members enrolled in that year\n",
    "data['became_member_on_year'] = data['became_member_on'].dt.year\n",
    "data1 = data[data['event']=='transaction'].groupby(['became_member_on_year'])['person'].count().reset_index()\n",
    "data1.columns = ['Year of membership enrollment', 'Number of transactions']\n",
    "sns.set_context(\"paper\", rc={\"font.size\":15, \"xtick.labelsize\":15, \"ytick.labelsize\":15,\"axes.labelsize\":15})   \n",
    "plt.figure(figsize = (15,10))\n",
    "g = sns.barplot(x = 'Year of membership enrollment', y = 'Number of transactions', data=data1)\n",
    "for index, row in data1.iterrows():\n",
    "    g.text(row.name,row['Number of transactions'], '{:,}'.format(round(row['Number of transactions'],1)), color='black', ha=\"center\",fontdict = {'size':15})\n",
    "\n",
    "plt.show()"
   ]
  },
  {
   "cell_type": "code",
   "execution_count": 10,
   "metadata": {},
   "outputs": [
    {
     "data": {
      "image/png": "[encoded data removed]",
      "text/plain": [
       "<matplotlib.figure.Figure at 0x7fcc30477128>"
      ]
     },
     "metadata": {
      "needs_background": "light"
     },
     "output_type": "display_data"
    }
   ],
   "source": [
    "# Create a column to hold the membership enrollment month and calculate number of enrollments by month\n",
    "data['became_member_on_month'] = data['became_member_on'].dt.month\n",
    "data1 = data.groupby(['became_member_on_month'])['person'].nunique().reset_index()\n",
    "\n",
    "sns.set_context(\"paper\", rc={\"font.size\":12, \"xtick.labelsize\":12, \"ytick.labelsize\":12,\"axes.labelsize\":12})   \n",
    "plt.figure(figsize = (15,5))\n",
    "g = sns.barplot(x = 'became_member_on_month', y = 'person', data=data1)\n",
    "for index, row in data1.iterrows():\n",
    "    g.text(row.name,row['person'], round(row['person'],1), color='black', ha=\"center\",fontdict = {'size':12})\n",
    "\n",
    "plt.show()"
   ]
  },
  {
   "cell_type": "code",
   "execution_count": 11,
   "metadata": {},
   "outputs": [
    {
     "data": {
      "text/plain": [
       "(Timestamp('2013-07-29 00:00:00'), Timestamp('2018-07-26 00:00:00'))"
      ]
     },
     "execution_count": 11,
     "metadata": {},
     "output_type": "execute_result"
    }
   ],
   "source": [
    "# Exact timeframe of the enrollment window\n",
    "data1 = data[['person','became_member_on']].drop_duplicates()\n",
    "data1['became_member_on'].min(), data1['became_member_on'].max()"
   ]
  },
  {
   "cell_type": "markdown",
   "metadata": {},
   "source": [
    "### Classifying the members based on the offer event"
   ]
  },
  {
   "cell_type": "code",
   "execution_count": 12,
   "metadata": {},
   "outputs": [
    {
     "name": "stdout",
     "output_type": "stream",
     "text": [
      "Number of people that have received the offer:  16994\n",
      "Number of people that have not received the offer:  6\n"
     ]
    }
   ],
   "source": [
    "person_withoffer = list(data.loc[data['event'] == 'offer received','person'].unique())\n",
    "person_withoutoffer = list(set(data['person']) - set(person_withoffer))\n",
    "\n",
    "print(\"Number of people that have received the offer: \", len(person_withoffer))\n",
    "print(\"Number of people that have not received the offer: \", len(person_withoutoffer))"
   ]
  },
  {
   "cell_type": "code",
   "execution_count": 13,
   "metadata": {},
   "outputs": [
    {
     "name": "stdout",
     "output_type": "stream",
     "text": [
      "Number of people that have viewed the offer:  16834\n",
      "  Number of people that have viewed and completed the offer:  12701\n",
      "  Number of people that have viewed the offer but did not complete:  4133\n",
      "\n",
      "\n",
      "Number of people that have completed the offer:  12774\n",
      "  Number of people that have completed the offer without seeing it:  73\n",
      "\n",
      "\n",
      "Number of people that have not taken any action:  87\n"
     ]
    }
   ],
   "source": [
    "person_viewoffer = list(data.loc[data['event'] == 'offer viewed','person'].unique())\n",
    "person_completedoffer = list(data.loc[data['event'] == 'offer completed','person'].unique())\n",
    "person_both_vandc = list(set(person_viewoffer).intersection(set(person_completedoffer)))\n",
    "person_onlyviewoffer = list(set(person_viewoffer) - set(person_completedoffer))\n",
    "person_directcompleted = list(set(person_completedoffer) - set(person_viewoffer))\n",
    "person_noaction = list(set(person_withoffer) - set(person_viewoffer) - set(person_completedoffer))\n",
    "\n",
    "print(\"Number of people that have viewed the offer: \", len(person_viewoffer))\n",
    "print(\"  Number of people that have viewed and completed the offer: \", len(person_both_vandc))\n",
    "print(\"  Number of people that have viewed the offer but did not complete: \", len(person_onlyviewoffer))\n",
    "print(\"\\n\")\n",
    "print(\"Number of people that have completed the offer: \", len(person_completedoffer))\n",
    "print(\"  Number of people that have completed the offer without seeing it: \", len(person_directcompleted))\n",
    "print(\"\\n\")\n",
    "print(\"Number of people that have not taken any action: \", len(person_noaction))"
   ]
  },
  {
   "cell_type": "code",
   "execution_count": 14,
   "metadata": {},
   "outputs": [
    {
     "name": "stdout",
     "output_type": "stream",
     "text": [
      "(17000, 2)\n"
     ]
    },
    {
     "data": {
      "text/html": [
       "<div>\n",
       "<style scoped>\n",
       "    .dataframe tbody tr th:only-of-type {\n",
       "        vertical-align: middle;\n",
       "    }\n",
       "\n",
       "    .dataframe tbody tr th {\n",
       "        vertical-align: top;\n",
       "    }\n",
       "\n",
       "    .dataframe thead th {\n",
       "        text-align: right;\n",
       "    }\n",
       "</style>\n",
       "<table border=\"1\" class=\"dataframe\">\n",
       "  <thead>\n",
       "    <tr style=\"text-align: right;\">\n",
       "      <th></th>\n",
       "      <th>person</th>\n",
       "      <th>Offer status</th>\n",
       "    </tr>\n",
       "  </thead>\n",
       "  <tbody>\n",
       "    <tr>\n",
       "      <th>0</th>\n",
       "      <td>12ede229379747bd8d74ccdc20097ca3</td>\n",
       "      <td>Did not receive</td>\n",
       "    </tr>\n",
       "    <tr>\n",
       "      <th>1</th>\n",
       "      <td>3a4874d8f0ef42b9a1b72294902afea9</td>\n",
       "      <td>Did not receive</td>\n",
       "    </tr>\n",
       "    <tr>\n",
       "      <th>2</th>\n",
       "      <td>c6e579c6821c41d1a7a6a9cf936e91bb</td>\n",
       "      <td>Did not receive</td>\n",
       "    </tr>\n",
       "    <tr>\n",
       "      <th>3</th>\n",
       "      <td>da7a7c0dcfcb41a8acc7864a53cf60fb</td>\n",
       "      <td>Did not receive</td>\n",
       "    </tr>\n",
       "    <tr>\n",
       "      <th>4</th>\n",
       "      <td>ae8111e7e8cd4b60a8d35c42c1110555</td>\n",
       "      <td>Did not receive</td>\n",
       "    </tr>\n",
       "  </tbody>\n",
       "</table>\n",
       "</div>"
      ],
      "text/plain": [
       "                             person     Offer status\n",
       "0  12ede229379747bd8d74ccdc20097ca3  Did not receive\n",
       "1  3a4874d8f0ef42b9a1b72294902afea9  Did not receive\n",
       "2  c6e579c6821c41d1a7a6a9cf936e91bb  Did not receive\n",
       "3  da7a7c0dcfcb41a8acc7864a53cf60fb  Did not receive\n",
       "4  ae8111e7e8cd4b60a8d35c42c1110555  Did not receive"
      ]
     },
     "execution_count": 14,
     "metadata": {},
     "output_type": "execute_result"
    }
   ],
   "source": [
    "# Creating a master customer list with their offer status appended as a column\n",
    "person_list1 = pd.DataFrame(person_withoutoffer, columns = ['person'])\n",
    "person_list1['Offer status'] = 'Did not receive'\n",
    "\n",
    "person_list2 = pd.DataFrame(person_both_vandc, columns = ['person'])\n",
    "person_list2['Offer status'] = 'Viewed and Completed'\n",
    "\n",
    "person_list3 = pd.DataFrame(person_noaction, columns = ['person'])\n",
    "person_list3['Offer status'] = 'Did not act'\n",
    "\n",
    "person_list4 = pd.DataFrame(person_onlyviewoffer, columns = ['person'])\n",
    "person_list4['Offer status'] = 'Viewed but did not complete'\n",
    "\n",
    "person_list5 = pd.DataFrame(person_directcompleted, columns = ['person'])\n",
    "person_list5['Offer status'] = 'Did not view but completed'\n",
    "\n",
    "person_list = pd.concat([person_list1, person_list2, person_list3, person_list4, person_list5], axis=0)\n",
    "print(person_list.shape)\n",
    "person_list.head()"
   ]
  },
  {
   "cell_type": "markdown",
   "metadata": {},
   "source": [
    "### Calculating average amount spent by different user groups by their offer status"
   ]
  },
  {
   "cell_type": "code",
   "execution_count": 44,
   "metadata": {},
   "outputs": [
    {
     "name": "stderr",
     "output_type": "stream",
     "text": [
      "/opt/conda/lib/python3.6/site-packages/ipykernel_launcher.py:3: FutureWarning: using a dict on a Series for aggregation\n",
      "is deprecated and will be removed in a future version\n",
      "  This is separate from the ipykernel package so we can avoid doing imports until\n"
     ]
    },
    {
     "data": {
      "text/html": [
       "<div>\n",
       "<style scoped>\n",
       "    .dataframe tbody tr th:only-of-type {\n",
       "        vertical-align: middle;\n",
       "    }\n",
       "\n",
       "    .dataframe tbody tr th {\n",
       "        vertical-align: top;\n",
       "    }\n",
       "\n",
       "    .dataframe thead th {\n",
       "        text-align: right;\n",
       "    }\n",
       "</style>\n",
       "<table border=\"1\" class=\"dataframe\">\n",
       "  <thead>\n",
       "    <tr style=\"text-align: right;\">\n",
       "      <th></th>\n",
       "      <th>Offer status</th>\n",
       "      <th>total_spend</th>\n",
       "      <th>num_instances</th>\n",
       "      <th>person</th>\n",
       "      <th>Average spend</th>\n",
       "      <th>sortorder</th>\n",
       "    </tr>\n",
       "  </thead>\n",
       "  <tbody>\n",
       "    <tr>\n",
       "      <th>0</th>\n",
       "      <td>Did not receive</td>\n",
       "      <td>250.60999999999999</td>\n",
       "      <td>20.0</td>\n",
       "      <td>6</td>\n",
       "      <td>12.5305</td>\n",
       "      <td>1</td>\n",
       "    </tr>\n",
       "    <tr>\n",
       "      <th>1</th>\n",
       "      <td>Viewed and Completed</td>\n",
       "      <td>1,693,007.7099999958</td>\n",
       "      <td>117,847.0</td>\n",
       "      <td>12701</td>\n",
       "      <td>14.366150262628627</td>\n",
       "      <td>2</td>\n",
       "    </tr>\n",
       "    <tr>\n",
       "      <th>2</th>\n",
       "      <td>Viewed but did not complete</td>\n",
       "      <td>74,668.57999999975</td>\n",
       "      <td>20,476.0</td>\n",
       "      <td>4133</td>\n",
       "      <td>3.6466389919906113</td>\n",
       "      <td>3</td>\n",
       "    </tr>\n",
       "    <tr>\n",
       "      <th>3</th>\n",
       "      <td>Did not view but completed</td>\n",
       "      <td>6,210.930000000001</td>\n",
       "      <td>331.0</td>\n",
       "      <td>73</td>\n",
       "      <td>18.764138972809672</td>\n",
       "      <td>4</td>\n",
       "    </tr>\n",
       "    <tr>\n",
       "      <th>4</th>\n",
       "      <td>Did not act</td>\n",
       "      <td>1,314.14</td>\n",
       "      <td>279.0</td>\n",
       "      <td>87</td>\n",
       "      <td>4.710179211469534</td>\n",
       "      <td>5</td>\n",
       "    </tr>\n",
       "  </tbody>\n",
       "</table>\n",
       "</div>"
      ],
      "text/plain": [
       "                  Offer status          total_spend  num_instances  person  \\\n",
       "0              Did not receive   250.60999999999999           20.0       6   \n",
       "1         Viewed and Completed 1,693,007.7099999958      117,847.0   12701   \n",
       "2  Viewed but did not complete   74,668.57999999975       20,476.0    4133   \n",
       "3   Did not view but completed   6,210.930000000001          331.0      73   \n",
       "4                  Did not act             1,314.14          279.0      87   \n",
       "\n",
       "       Average spend  sortorder  \n",
       "0            12.5305          1  \n",
       "1 14.366150262628627          2  \n",
       "2 3.6466389919906113          3  \n",
       "3 18.764138972809672          4  \n",
       "4  4.710179211469534          5  "
      ]
     },
     "execution_count": 44,
     "metadata": {},
     "output_type": "execute_result"
    }
   ],
   "source": [
    "person_avg = data.loc[data['value_key'] == 'amount',['person','value_values']].copy().reset_index(drop=True)\n",
    "person_avg['value_values'] = person_avg['value_values'].astype('float')\n",
    "person_avg = person_avg.groupby(['person'])['value_values'].agg({'value_values':['sum', 'count']}).reset_index()\n",
    "person_avg.columns = ['person','total_spend', 'num_instances']\n",
    "person_avg = person_list.merge(person_avg, how = 'left', on =['person'])\n",
    "person_avg = person_avg.groupby(['Offer status']).agg({'total_spend':'sum', 'num_instances':'sum', 'person':'count'}).reset_index()\n",
    "person_avg['Average spend'] = person_avg['total_spend']/person_avg['num_instances']\n",
    "person_avg['sortorder'] = [5,1,4,2,3]\n",
    "person_avg = person_avg.sort_values('sortorder').reset_index(drop = True)\n",
    "person_avg.head()"
   ]
  },
  {
   "cell_type": "code",
   "execution_count": 46,
   "metadata": {},
   "outputs": [
    {
     "data": {
      "image/png": "[encoded data removed]",
      "text/plain": [
       "<matplotlib.figure.Figure at 0x7fcc0038f320>"
      ]
     },
     "metadata": {
      "needs_background": "light"
     },
     "output_type": "display_data"
    }
   ],
   "source": [
    "sns.set_context(\"paper\", rc={\"font.size\":15, \"xtick.labelsize\":15, \"ytick.labelsize\":15,\"axes.labelsize\":15})   \n",
    "plt.figure(figsize = (20,8))\n",
    "g = sns.barplot(x = 'Offer status', y = 'Average spend', data=person_avg)\n",
    "for index, row in person_avg.iterrows():\n",
    "    g.text(row.name,row['Average spend'], str(round(row['Average spend'],1))+' ('+'{:,}'.format(row['person'])+')', color='black', ha=\"center\",fontdict = {'size':15})\n",
    "\n",
    "plt.show()"
   ]
  },
  {
   "cell_type": "code",
   "execution_count": 48,
   "metadata": {
    "scrolled": true
   },
   "outputs": [
    {
     "data": {
      "text/plain": [
       "Viewed and Completed           12701\n",
       "Viewed but did not complete     4133\n",
       "Did not act                       87\n",
       "Did not view but completed        73\n",
       "Did not receive                    6\n",
       "Name: Offer status, dtype: int64"
      ]
     },
     "execution_count": 48,
     "metadata": {},
     "output_type": "execute_result"
    }
   ],
   "source": [
    "person_list['Offer status'].value_counts()"
   ]
  },
  {
   "cell_type": "markdown",
   "metadata": {},
   "source": [
    "### Analyze the different offers and their impact on spend"
   ]
  },
  {
   "cell_type": "code",
   "execution_count": 61,
   "metadata": {},
   "outputs": [
    {
     "data": {
      "image/png": "[encoded data removed]",
      "text/plain": [
       "<matplotlib.figure.Figure at 0x7fcc003db908>"
      ]
     },
     "metadata": {
      "needs_background": "light"
     },
     "output_type": "display_data"
    }
   ],
   "source": [
    "# Identifying the number of people that have received each type of offer\n",
    "data2 = data.loc[data['value_key']!= 'amount', ['offer_type', 'person']].drop_duplicates()\n",
    "data2 = data2.groupby(['offer_type'])['person'].nunique().reset_index()\n",
    "data2.columns = ['Offer Type', 'perc']\n",
    "data2['Offer Type'] = data2['Offer Type'].str.upper()\n",
    "data2['perc'] = (100*data2['perc'])/16994\n",
    "\n",
    "# Identifying the number of distinct offers by their offer type\n",
    "data3 = data.loc[data['value_key']!= 'amount', ['offer_type', 'value_values']].drop_duplicates()\n",
    "data3 = data3.groupby(['offer_type'])['value_values'].nunique().reset_index()\n",
    "data3.columns = ['Offer Type', 'Number of offers']\n",
    "data3['Offer Type'] = data3['Offer Type'].str.upper()\n",
    "data3 = data3.merge(data2, how = 'left', on = ['Offer Type'])\n",
    "\n",
    "sns.set_context(\"paper\", rc={\"font.size\":15, \"xtick.labelsize\":15, \"ytick.labelsize\":15,\"axes.labelsize\":15})   \n",
    "plt.figure(figsize = (10,5))\n",
    "g = sns.barplot(x = 'Offer Type', y = 'Number of offers', data=data3)\n",
    "for index, row in data3.iterrows():\n",
    "    g.text(row.name,row['Number of offers'], str(round(row['Number of offers'],1))+' ('+str(round(row['perc'],1))+'%)', color='black', ha=\"center\",fontdict = {'size':15})\n",
    "\n",
    "plt.show()"
   ]
  },
  {
   "cell_type": "code",
   "execution_count": 103,
   "metadata": {},
   "outputs": [
    {
     "data": {
      "text/html": [
       "<div>\n",
       "<style scoped>\n",
       "    .dataframe tbody tr th:only-of-type {\n",
       "        vertical-align: middle;\n",
       "    }\n",
       "\n",
       "    .dataframe tbody tr th {\n",
       "        vertical-align: top;\n",
       "    }\n",
       "\n",
       "    .dataframe thead th {\n",
       "        text-align: right;\n",
       "    }\n",
       "</style>\n",
       "<table border=\"1\" class=\"dataframe\">\n",
       "  <thead>\n",
       "    <tr style=\"text-align: right;\">\n",
       "      <th></th>\n",
       "      <th>bogo</th>\n",
       "      <th>discount</th>\n",
       "      <th>informational</th>\n",
       "      <th>person</th>\n",
       "    </tr>\n",
       "  </thead>\n",
       "  <tbody>\n",
       "    <tr>\n",
       "      <th>0</th>\n",
       "      <td>0.0</td>\n",
       "      <td>0.0</td>\n",
       "      <td>1.0</td>\n",
       "      <td>66</td>\n",
       "    </tr>\n",
       "    <tr>\n",
       "      <th>1</th>\n",
       "      <td>0.0</td>\n",
       "      <td>1.0</td>\n",
       "      <td>0.0</td>\n",
       "      <td>466</td>\n",
       "    </tr>\n",
       "    <tr>\n",
       "      <th>2</th>\n",
       "      <td>0.0</td>\n",
       "      <td>1.0</td>\n",
       "      <td>1.0</td>\n",
       "      <td>1470</td>\n",
       "    </tr>\n",
       "    <tr>\n",
       "      <th>3</th>\n",
       "      <td>1.0</td>\n",
       "      <td>0.0</td>\n",
       "      <td>0.0</td>\n",
       "      <td>487</td>\n",
       "    </tr>\n",
       "    <tr>\n",
       "      <th>4</th>\n",
       "      <td>1.0</td>\n",
       "      <td>0.0</td>\n",
       "      <td>1.0</td>\n",
       "      <td>1496</td>\n",
       "    </tr>\n",
       "    <tr>\n",
       "      <th>5</th>\n",
       "      <td>1.0</td>\n",
       "      <td>1.0</td>\n",
       "      <td>0.0</td>\n",
       "      <td>5494</td>\n",
       "    </tr>\n",
       "    <tr>\n",
       "      <th>6</th>\n",
       "      <td>1.0</td>\n",
       "      <td>1.0</td>\n",
       "      <td>1.0</td>\n",
       "      <td>7515</td>\n",
       "    </tr>\n",
       "  </tbody>\n",
       "</table>\n",
       "</div>"
      ],
      "text/plain": [
       "   bogo  discount  informational  person\n",
       "0   0.0       0.0            1.0      66\n",
       "1   0.0       1.0            0.0     466\n",
       "2   0.0       1.0            1.0    1470\n",
       "3   1.0       0.0            0.0     487\n",
       "4   1.0       0.0            1.0    1496\n",
       "5   1.0       1.0            0.0    5494\n",
       "6   1.0       1.0            1.0    7515"
      ]
     },
     "execution_count": 103,
     "metadata": {},
     "output_type": "execute_result"
    }
   ],
   "source": [
    "# Flagging the customer exposure to different type of offers\n",
    "data4 = data.loc[data['value_key']!= 'amount', ['person', 'offer_type', 'value_key']].drop_duplicates()\n",
    "data4 = data4.groupby(['person', 'offer_type'])['value_key'].count().unstack(['offer_type']).fillna(0).reset_index()\n",
    "data41 = data4.groupby(['bogo', 'discount', 'informational'])['person'].nunique().reset_index()\n",
    "data41"
   ]
  },
  {
   "cell_type": "code",
   "execution_count": 139,
   "metadata": {},
   "outputs": [
    {
     "data": {
      "text/plain": [
       "(0.4422148993762504,\n",
       " 0.02865717311992468,\n",
       " 0.027421442862186653,\n",
       " 0.0038837236671766507)"
      ]
     },
     "execution_count": 139,
     "metadata": {},
     "output_type": "execute_result"
    }
   ],
   "source": [
    "7515/16994, (487)/16994, (466)/16994, 66/16994"
   ]
  },
  {
   "cell_type": "code",
   "execution_count": 106,
   "metadata": {},
   "outputs": [
    {
     "name": "stdout",
     "output_type": "stream",
     "text": [
      "(16834, 4)\n"
     ]
    },
    {
     "data": {
      "text/html": [
       "<div>\n",
       "<style scoped>\n",
       "    .dataframe tbody tr th:only-of-type {\n",
       "        vertical-align: middle;\n",
       "    }\n",
       "\n",
       "    .dataframe tbody tr th {\n",
       "        vertical-align: top;\n",
       "    }\n",
       "\n",
       "    .dataframe thead th {\n",
       "        text-align: right;\n",
       "    }\n",
       "</style>\n",
       "<table border=\"1\" class=\"dataframe\">\n",
       "  <thead>\n",
       "    <tr style=\"text-align: right;\">\n",
       "      <th>offer_type</th>\n",
       "      <th>person</th>\n",
       "      <th>bogo</th>\n",
       "      <th>discount</th>\n",
       "      <th>informational</th>\n",
       "    </tr>\n",
       "  </thead>\n",
       "  <tbody>\n",
       "    <tr>\n",
       "      <th>0</th>\n",
       "      <td>0009655768c64bdeb2e877511632db8f</td>\n",
       "      <td>456.0</td>\n",
       "      <td>540.0</td>\n",
       "      <td>372.0</td>\n",
       "    </tr>\n",
       "    <tr>\n",
       "      <th>1</th>\n",
       "      <td>00116118485d4dfda04fdbaba9a87b5c</td>\n",
       "      <td>630.0</td>\n",
       "      <td>0.0</td>\n",
       "      <td>0.0</td>\n",
       "    </tr>\n",
       "    <tr>\n",
       "      <th>2</th>\n",
       "      <td>0011e0d4e6b944f998e987f904e8c1e5</td>\n",
       "      <td>516.0</td>\n",
       "      <td>432.0</td>\n",
       "      <td>354.0</td>\n",
       "    </tr>\n",
       "    <tr>\n",
       "      <th>3</th>\n",
       "      <td>0020c2b971eb4e9188eac86d93036a77</td>\n",
       "      <td>426.0</td>\n",
       "      <td>12.0</td>\n",
       "      <td>660.0</td>\n",
       "    </tr>\n",
       "    <tr>\n",
       "      <th>4</th>\n",
       "      <td>0020ccbbb6d84e358d3414a3ff76cffd</td>\n",
       "      <td>582.0</td>\n",
       "      <td>168.0</td>\n",
       "      <td>408.0</td>\n",
       "    </tr>\n",
       "  </tbody>\n",
       "</table>\n",
       "</div>"
      ],
      "text/plain": [
       "offer_type                            person  bogo  discount  informational\n",
       "0           0009655768c64bdeb2e877511632db8f 456.0     540.0          372.0\n",
       "1           00116118485d4dfda04fdbaba9a87b5c 630.0       0.0            0.0\n",
       "2           0011e0d4e6b944f998e987f904e8c1e5 516.0     432.0          354.0\n",
       "3           0020c2b971eb4e9188eac86d93036a77 426.0      12.0          660.0\n",
       "4           0020ccbbb6d84e358d3414a3ff76cffd 582.0     168.0          408.0"
      ]
     },
     "execution_count": 106,
     "metadata": {},
     "output_type": "execute_result"
    }
   ],
   "source": [
    "# Calculating the time of completion of different offers experienced by the customer to analyze their spending pattern\n",
    "data5 = data.loc[data['event'] == 'offer viewed', ['person', 'offer_type', 'time']].drop_duplicates()\n",
    "data5 = data5.groupby(['person', 'offer_type'])['time'].max().unstack(['offer_type']).fillna(0).reset_index()\n",
    "print(data5.shape)\n",
    "data5.head()"
   ]
  },
  {
   "cell_type": "code",
   "execution_count": 107,
   "metadata": {},
   "outputs": [
    {
     "data": {
      "text/html": [
       "<div>\n",
       "<style scoped>\n",
       "    .dataframe tbody tr th:only-of-type {\n",
       "        vertical-align: middle;\n",
       "    }\n",
       "\n",
       "    .dataframe tbody tr th {\n",
       "        vertical-align: top;\n",
       "    }\n",
       "\n",
       "    .dataframe thead th {\n",
       "        text-align: right;\n",
       "    }\n",
       "</style>\n",
       "<table border=\"1\" class=\"dataframe\">\n",
       "  <thead>\n",
       "    <tr style=\"text-align: right;\">\n",
       "      <th></th>\n",
       "      <th>bogo</th>\n",
       "      <th>discount</th>\n",
       "      <th>informational</th>\n",
       "      <th>prebogo_avg</th>\n",
       "      <th>predisc_avg</th>\n",
       "    </tr>\n",
       "  </thead>\n",
       "  <tbody>\n",
       "    <tr>\n",
       "      <th>0</th>\n",
       "      <td>0.0</td>\n",
       "      <td>0.0</td>\n",
       "      <td>1.0</td>\n",
       "      <td>18.6</td>\n",
       "      <td>18.6</td>\n",
       "    </tr>\n",
       "    <tr>\n",
       "      <th>1</th>\n",
       "      <td>0.0</td>\n",
       "      <td>1.0</td>\n",
       "      <td>0.0</td>\n",
       "      <td>11.069166666666666</td>\n",
       "      <td>11.069166666666666</td>\n",
       "    </tr>\n",
       "    <tr>\n",
       "      <th>2</th>\n",
       "      <td>0.0</td>\n",
       "      <td>1.0</td>\n",
       "      <td>1.0</td>\n",
       "      <td>12.695714285714283</td>\n",
       "      <td>12.695714285714283</td>\n",
       "    </tr>\n",
       "    <tr>\n",
       "      <th>3</th>\n",
       "      <td>1.0</td>\n",
       "      <td>0.0</td>\n",
       "      <td>0.0</td>\n",
       "      <td>12.584397515527954</td>\n",
       "      <td>12.584397515527954</td>\n",
       "    </tr>\n",
       "    <tr>\n",
       "      <th>4</th>\n",
       "      <td>1.0</td>\n",
       "      <td>0.0</td>\n",
       "      <td>1.0</td>\n",
       "      <td>13.62926705478431</td>\n",
       "      <td>13.62926705478431</td>\n",
       "    </tr>\n",
       "    <tr>\n",
       "      <th>5</th>\n",
       "      <td>1.0</td>\n",
       "      <td>1.0</td>\n",
       "      <td>0.0</td>\n",
       "      <td>12.6897526633391</td>\n",
       "      <td>12.6897526633391</td>\n",
       "    </tr>\n",
       "    <tr>\n",
       "      <th>6</th>\n",
       "      <td>1.0</td>\n",
       "      <td>1.0</td>\n",
       "      <td>1.0</td>\n",
       "      <td>12.75885052350189</td>\n",
       "      <td>12.75885052350189</td>\n",
       "    </tr>\n",
       "  </tbody>\n",
       "</table>\n",
       "</div>"
      ],
      "text/plain": [
       "   bogo  discount  informational        prebogo_avg        predisc_avg\n",
       "0   0.0       0.0            1.0               18.6               18.6\n",
       "1   0.0       1.0            0.0 11.069166666666666 11.069166666666666\n",
       "2   0.0       1.0            1.0 12.695714285714283 12.695714285714283\n",
       "3   1.0       0.0            0.0 12.584397515527954 12.584397515527954\n",
       "4   1.0       0.0            1.0  13.62926705478431  13.62926705478431\n",
       "5   1.0       1.0            0.0   12.6897526633391   12.6897526633391\n",
       "6   1.0       1.0            1.0  12.75885052350189  12.75885052350189"
      ]
     },
     "execution_count": 107,
     "metadata": {},
     "output_type": "execute_result"
    }
   ],
   "source": [
    "# Calculating the average spend of the customers before viewing the offer\n",
    "data6 = data[data['value_key']=='amount'].merge(data5, how = 'left', on =['person'])\n",
    "data6 = data6[(data6['time'] <= data6['bogo'])]\n",
    "data6['value_values'] = data6['value_values'].astype('float')\n",
    "data6 = data6.groupby(['person']).agg({'value_values':['sum', 'count']}).reset_index()\n",
    "data6.columns = ['person', 'prebogo_sum', 'prebogo_count']\n",
    "\n",
    "data7 = data4.merge(data6, how ='left', on = ['person'])\n",
    "\n",
    "data6 = data[data['value_key']=='amount'].merge(data5, how = 'left', on =['person'])\n",
    "data6 = data6[(data6['time'] <= data6['bogo'])]\n",
    "data6['value_values'] = data6['value_values'].astype('float')\n",
    "data6 = data6.groupby(['person']).agg({'value_values':['sum', 'count']}).reset_index()\n",
    "data6.columns = ['person', 'predisc_sum', 'predisc_count']\n",
    "\n",
    "data7 = data7.merge(data6, how ='left', on = ['person'])\n",
    "data71 = data7.drop(['person'],axis=1).groupby(['bogo', 'discount', 'informational']).sum().reset_index()\n",
    "data71['prebogo_avg'] = data71['prebogo_sum']/data71['prebogo_count']\n",
    "data71['predisc_avg'] = data71['predisc_sum']/data71['predisc_count']\n",
    "data71 = data71.drop(['prebogo_sum', 'prebogo_count', 'predisc_count', 'predisc_sum'], axis=1)\n",
    "data71"
   ]
  },
  {
   "cell_type": "code",
   "execution_count": 108,
   "metadata": {},
   "outputs": [
    {
     "data": {
      "text/html": [
       "<div>\n",
       "<style scoped>\n",
       "    .dataframe tbody tr th:only-of-type {\n",
       "        vertical-align: middle;\n",
       "    }\n",
       "\n",
       "    .dataframe tbody tr th {\n",
       "        vertical-align: top;\n",
       "    }\n",
       "\n",
       "    .dataframe thead th {\n",
       "        text-align: right;\n",
       "    }\n",
       "</style>\n",
       "<table border=\"1\" class=\"dataframe\">\n",
       "  <thead>\n",
       "    <tr style=\"text-align: right;\">\n",
       "      <th></th>\n",
       "      <th>bogo</th>\n",
       "      <th>discount</th>\n",
       "      <th>informational</th>\n",
       "      <th>postbogo_avg</th>\n",
       "      <th>postdisc_avg</th>\n",
       "    </tr>\n",
       "  </thead>\n",
       "  <tbody>\n",
       "    <tr>\n",
       "      <th>0</th>\n",
       "      <td>0.0</td>\n",
       "      <td>0.0</td>\n",
       "      <td>1.0</td>\n",
       "      <td>nan</td>\n",
       "      <td>nan</td>\n",
       "    </tr>\n",
       "    <tr>\n",
       "      <th>1</th>\n",
       "      <td>0.0</td>\n",
       "      <td>1.0</td>\n",
       "      <td>0.0</td>\n",
       "      <td>nan</td>\n",
       "      <td>12.588167569108007</td>\n",
       "    </tr>\n",
       "    <tr>\n",
       "      <th>2</th>\n",
       "      <td>0.0</td>\n",
       "      <td>1.0</td>\n",
       "      <td>1.0</td>\n",
       "      <td>nan</td>\n",
       "      <td>12.74714494163423</td>\n",
       "    </tr>\n",
       "    <tr>\n",
       "      <th>3</th>\n",
       "      <td>1.0</td>\n",
       "      <td>0.0</td>\n",
       "      <td>0.0</td>\n",
       "      <td>12.058105536332189</td>\n",
       "      <td>nan</td>\n",
       "    </tr>\n",
       "    <tr>\n",
       "      <th>4</th>\n",
       "      <td>1.0</td>\n",
       "      <td>0.0</td>\n",
       "      <td>1.0</td>\n",
       "      <td>12.756149410879907</td>\n",
       "      <td>nan</td>\n",
       "    </tr>\n",
       "    <tr>\n",
       "      <th>5</th>\n",
       "      <td>1.0</td>\n",
       "      <td>1.0</td>\n",
       "      <td>0.0</td>\n",
       "      <td>13.0224993028055</td>\n",
       "      <td>13.33356436196972</td>\n",
       "    </tr>\n",
       "    <tr>\n",
       "      <th>6</th>\n",
       "      <td>1.0</td>\n",
       "      <td>1.0</td>\n",
       "      <td>1.0</td>\n",
       "      <td>12.63810614149565</td>\n",
       "      <td>13.051367090601271</td>\n",
       "    </tr>\n",
       "  </tbody>\n",
       "</table>\n",
       "</div>"
      ],
      "text/plain": [
       "   bogo  discount  informational       postbogo_avg       postdisc_avg\n",
       "0   0.0       0.0            1.0                nan                nan\n",
       "1   0.0       1.0            0.0                nan 12.588167569108007\n",
       "2   0.0       1.0            1.0                nan  12.74714494163423\n",
       "3   1.0       0.0            0.0 12.058105536332189                nan\n",
       "4   1.0       0.0            1.0 12.756149410879907                nan\n",
       "5   1.0       1.0            0.0   13.0224993028055  13.33356436196972\n",
       "6   1.0       1.0            1.0  12.63810614149565 13.051367090601271"
      ]
     },
     "execution_count": 108,
     "metadata": {},
     "output_type": "execute_result"
    }
   ],
   "source": [
    "# Calculating the average spend of the customers after viewing the offer\n",
    "data6 = data[data['value_key']=='amount'].merge(data5, how = 'left', on =['person'])\n",
    "data6 = data6[(data6['time'] > data6['bogo'])&(data6['bogo']>0)]\n",
    "data6['value_values'] = data6['value_values'].astype('float')\n",
    "data6 = data6.groupby(['person']).agg({'value_values':['sum', 'count']}).reset_index()\n",
    "data6.columns = ['person', 'postbogo_sum', 'postbogo_count']\n",
    "\n",
    "data8 = data4.merge(data6, how ='left', on = ['person'])\n",
    "\n",
    "data6 = data[data['value_key']=='amount'].merge(data5, how = 'left', on =['person'])\n",
    "data6 = data6[(data6['time'] > data6['bogo'])&(data6['discount']>0)]\n",
    "data6['value_values'] = data6['value_values'].astype('float')\n",
    "data6 = data6.groupby(['person']).agg({'value_values':['sum', 'count']}).reset_index()\n",
    "data6.columns = ['person', 'postdisc_sum', 'postdisc_count']\n",
    "\n",
    "data8 = data8.merge(data6, how ='left', on = ['person'])\n",
    "data81 = data8.drop(['person'],axis=1).groupby(['bogo', 'discount', 'informational']).sum().reset_index()\n",
    "data81['postbogo_avg'] = data81['postbogo_sum']/data81['postbogo_count']\n",
    "data81['postdisc_avg'] = data81['postdisc_sum']/data81['postdisc_count']\n",
    "data81 = data81.drop(['postbogo_sum', 'postbogo_count', 'postdisc_count', 'postdisc_sum'], axis=1)\n",
    "data81"
   ]
  },
  {
   "cell_type": "code",
   "execution_count": 122,
   "metadata": {},
   "outputs": [
    {
     "data": {
      "text/html": [
       "<div>\n",
       "<style scoped>\n",
       "    .dataframe tbody tr th:only-of-type {\n",
       "        vertical-align: middle;\n",
       "    }\n",
       "\n",
       "    .dataframe tbody tr th {\n",
       "        vertical-align: top;\n",
       "    }\n",
       "\n",
       "    .dataframe thead th {\n",
       "        text-align: right;\n",
       "    }\n",
       "</style>\n",
       "<table border=\"1\" class=\"dataframe\">\n",
       "  <thead>\n",
       "    <tr style=\"text-align: right;\">\n",
       "      <th></th>\n",
       "      <th>bogo</th>\n",
       "      <th>discount</th>\n",
       "      <th>informational</th>\n",
       "      <th>person</th>\n",
       "      <th>prebogo_avg</th>\n",
       "      <th>predisc_avg</th>\n",
       "      <th>postbogo_avg</th>\n",
       "      <th>postdisc_avg</th>\n",
       "    </tr>\n",
       "  </thead>\n",
       "  <tbody>\n",
       "    <tr>\n",
       "      <th>0</th>\n",
       "      <td>0.0</td>\n",
       "      <td>0.0</td>\n",
       "      <td>1.0</td>\n",
       "      <td>66</td>\n",
       "      <td>18.6</td>\n",
       "      <td>18.6</td>\n",
       "      <td>nan</td>\n",
       "      <td>nan</td>\n",
       "    </tr>\n",
       "    <tr>\n",
       "      <th>1</th>\n",
       "      <td>0.0</td>\n",
       "      <td>1.0</td>\n",
       "      <td>0.0</td>\n",
       "      <td>466</td>\n",
       "      <td>11.069166666666666</td>\n",
       "      <td>11.069166666666666</td>\n",
       "      <td>nan</td>\n",
       "      <td>12.588167569108007</td>\n",
       "    </tr>\n",
       "    <tr>\n",
       "      <th>2</th>\n",
       "      <td>0.0</td>\n",
       "      <td>1.0</td>\n",
       "      <td>1.0</td>\n",
       "      <td>1470</td>\n",
       "      <td>12.695714285714283</td>\n",
       "      <td>12.695714285714283</td>\n",
       "      <td>nan</td>\n",
       "      <td>12.74714494163423</td>\n",
       "    </tr>\n",
       "    <tr>\n",
       "      <th>3</th>\n",
       "      <td>1.0</td>\n",
       "      <td>0.0</td>\n",
       "      <td>0.0</td>\n",
       "      <td>487</td>\n",
       "      <td>12.584397515527954</td>\n",
       "      <td>12.584397515527954</td>\n",
       "      <td>12.058105536332189</td>\n",
       "      <td>nan</td>\n",
       "    </tr>\n",
       "    <tr>\n",
       "      <th>4</th>\n",
       "      <td>1.0</td>\n",
       "      <td>0.0</td>\n",
       "      <td>1.0</td>\n",
       "      <td>1496</td>\n",
       "      <td>13.62926705478431</td>\n",
       "      <td>13.62926705478431</td>\n",
       "      <td>12.756149410879907</td>\n",
       "      <td>nan</td>\n",
       "    </tr>\n",
       "    <tr>\n",
       "      <th>5</th>\n",
       "      <td>1.0</td>\n",
       "      <td>1.0</td>\n",
       "      <td>0.0</td>\n",
       "      <td>5494</td>\n",
       "      <td>12.6897526633391</td>\n",
       "      <td>12.6897526633391</td>\n",
       "      <td>13.0224993028055</td>\n",
       "      <td>13.33356436196972</td>\n",
       "    </tr>\n",
       "    <tr>\n",
       "      <th>6</th>\n",
       "      <td>1.0</td>\n",
       "      <td>1.0</td>\n",
       "      <td>1.0</td>\n",
       "      <td>7515</td>\n",
       "      <td>12.75885052350189</td>\n",
       "      <td>12.75885052350189</td>\n",
       "      <td>12.63810614149565</td>\n",
       "      <td>13.051367090601271</td>\n",
       "    </tr>\n",
       "  </tbody>\n",
       "</table>\n",
       "</div>"
      ],
      "text/plain": [
       "   bogo  discount  informational  person        prebogo_avg  \\\n",
       "0   0.0       0.0            1.0      66               18.6   \n",
       "1   0.0       1.0            0.0     466 11.069166666666666   \n",
       "2   0.0       1.0            1.0    1470 12.695714285714283   \n",
       "3   1.0       0.0            0.0     487 12.584397515527954   \n",
       "4   1.0       0.0            1.0    1496  13.62926705478431   \n",
       "5   1.0       1.0            0.0    5494   12.6897526633391   \n",
       "6   1.0       1.0            1.0    7515  12.75885052350189   \n",
       "\n",
       "         predisc_avg       postbogo_avg       postdisc_avg  \n",
       "0               18.6                nan                nan  \n",
       "1 11.069166666666666                nan 12.588167569108007  \n",
       "2 12.695714285714283                nan  12.74714494163423  \n",
       "3 12.584397515527954 12.058105536332189                nan  \n",
       "4  13.62926705478431 12.756149410879907                nan  \n",
       "5   12.6897526633391   13.0224993028055  13.33356436196972  \n",
       "6  12.75885052350189  12.63810614149565 13.051367090601271  "
      ]
     },
     "execution_count": 122,
     "metadata": {},
     "output_type": "execute_result"
    }
   ],
   "source": [
    "data9 = data41.merge(data71, how = 'left', on = ['bogo', 'discount', 'informational'])\n",
    "data9 = data9.merge(data81, how = 'left', on = ['bogo', 'discount', 'informational'])\n",
    "data9"
   ]
  },
  {
   "cell_type": "code",
   "execution_count": 130,
   "metadata": {},
   "outputs": [
    {
     "data": {
      "image/png": "[encoded data removed]",
      "text/plain": [
       "<matplotlib.figure.Figure at 0x7fcc0040e9e8>"
      ]
     },
     "metadata": {
      "needs_background": "light"
     },
     "output_type": "display_data"
    }
   ],
   "source": [
    "# Plot the spend change in customers due to different offer combinations\n",
    "data9 = data41.merge(data71, how = 'left', on = ['bogo', 'discount', 'informational'])\n",
    "data9 = data9.merge(data81, how = 'left', on = ['bogo', 'discount', 'informational'])\n",
    "data9 = data9.rename(columns = {'prebogo_avg':'Avg spend pre-BOGO', 'postbogo_avg':'Average spend post-BOGO', 'predisc_avg':'Avg spend pre-Discount', 'postdisc_avg':'Average spend post-Discount'})\n",
    "data9['Offer combination'] = ['Information only', 'Discount only', 'Discount and Information', 'BOGO only', \n",
    "                              'BOGO and Information', 'BOGO and Discount', 'All three']\n",
    "data9.index = data9['Offer combination']\n",
    "data9 = data9.drop(['informational', 'bogo', 'discount','Offer combination', 'person'], axis=1).stack().reset_index()\n",
    "data9.columns = ['Offer combination', 'Information', 'Value']\n",
    "\n",
    "data91 = data9[(data9['Offer combination'].isin(['BOGO only','BOGO and Information', 'BOGO and Discount', 'All three']))&(['BOGO' in i for i in data9['Information']])]\n",
    "sns.set_context(\"paper\", rc={\"font.size\":15, \"xtick.labelsize\":15, \"ytick.labelsize\":15,\"axes.labelsize\":15, \"legend.fontsize\":15})   \n",
    "plt.figure(figsize = (20,10))\n",
    "g = sns.barplot(x='Offer combination', y = 'Value', hue = 'Information', data = data91)\n",
    "# for index, row in data91.iterrows():\n",
    "#     g.text(row.name,row['Value'], round(row['Value'],1), color='black', ha=\"center\",fontdict = {'size':15})\n",
    "\n",
    "plt.show()"
   ]
  },
  {
   "cell_type": "code",
   "execution_count": 131,
   "metadata": {},
   "outputs": [
    {
     "data": {
      "image/png": "[encoded data removed]",
      "text/plain": [
       "<matplotlib.figure.Figure at 0x7fcc0041f080>"
      ]
     },
     "metadata": {
      "needs_background": "light"
     },
     "output_type": "display_data"
    }
   ],
   "source": [
    "data91 = data9[(data9['Offer combination'].isin(['Discount only','Discount and Information', 'BOGO and Discount', 'All three']))&(['Discount' in i for i in data9['Information']])]\n",
    "sns.set_context(\"paper\", rc={\"font.size\":15, \"xtick.labelsize\":15, \"ytick.labelsize\":15,\"axes.labelsize\":15, \"legend.fontsize\":15})   \n",
    "plt.figure(figsize = (20,10))\n",
    "g = sns.barplot(x='Offer combination', y = 'Value', hue = 'Information', data = data91)\n",
    "# for index, row in data91.iterrows():\n",
    "#     g.text(row.name,row['Value'], round(row['Value'],1), color='black', ha=\"center\",fontdict = {'size':15})\n",
    "\n",
    "plt.show()"
   ]
  },
  {
   "cell_type": "code",
   "execution_count": null,
   "metadata": {},
   "outputs": [],
   "source": []
  }
 ],
 "metadata": {
  "kernelspec": {
   "display_name": "Python 3",
   "language": "python",
   "name": "python3"
  },
  "language_info": {
   "codemirror_mode": {
    "name": "ipython",
    "version": 3
   },
   "file_extension": ".py",
   "mimetype": "text/x-python",
   "name": "python",
   "nbconvert_exporter": "python",
   "pygments_lexer": "ipython3",
   "version": "3.6.3"
  }
 },
 "nbformat": 4,
 "nbformat_minor": 2
}
